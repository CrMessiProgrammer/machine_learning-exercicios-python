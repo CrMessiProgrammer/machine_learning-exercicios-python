{
  "nbformat": 4,
  "nbformat_minor": 0,
  "metadata": {
    "colab": {
      "provenance": [],
      "authorship_tag": "ABX9TyNhGi38EJ1akUY6SpxKbAGq",
      "include_colab_link": true
    },
    "kernelspec": {
      "name": "python3",
      "display_name": "Python 3"
    }
  },
  "cells": [
    {
      "cell_type": "markdown",
      "metadata": {
        "id": "view-in-github",
        "colab_type": "text"
      },
      "source": [
        "<a href=\"https://colab.research.google.com/github/CrMessiProgrammer/machine_learning-exercicios-python/blob/main/Aula_04_03_Exe5.ipynb\" target=\"_parent\"><img src=\"https://colab.research.google.com/assets/colab-badge.svg\" alt=\"Open In Colab\"/></a>"
      ]
    },
    {
      "cell_type": "code",
      "metadata": {
        "colab": {
          "base_uri": "https://localhost:8080/"
        },
        "id": "71LpfpDCsdLG",
        "outputId": "af033c0e-cf72-48e9-e1dc-319b29c21d71"
      },
      "source": [
        "# resolver e^(4.35)=sum((-1)^k*x^k))/k!\n",
        "import math\n",
        "from decimal import*\n",
        "getcontext().prec=6\n",
        "x=Decimal(4.35)\n",
        "#x=4.35\n",
        "e_to_x=0\n",
        "for i in range(30):\n",
        "  e_to_x += ((-1)**i)*(x**i)/(math.factorial(i))\n",
        "#print(e_to_x)\n",
        "  print(f'{i} termos: {e_to_x}')"
      ],
      "execution_count": 1,
      "outputs": [
        {
          "output_type": "stream",
          "name": "stdout",
          "text": [
            "0 termos: 1\n",
            "1 termos: -3.35000\n",
            "2 termos: 6.11125\n",
            "3 termos: -7.60755\n",
            "4 termos: 7.31165\n",
            "5 termos: -5.66815\n",
            "6 termos: 3.74214\n",
            "7 termos: -2.10568\n",
            "8 termos: 1.07408\n",
            "9 termos: -0.46280\n",
            "10 termos: 0.205743\n",
            "11 termos: -0.058634\n",
            "12 termos: 0.0372033\n",
            "13 termos: 0.0051347\n",
            "14 termos: 0.0150989\n",
            "15 termos: 0.0122093\n",
            "16 termos: 0.0129949\n",
            "17 termos: 0.0127939\n",
            "18 termos: 0.0128425\n",
            "19 termos: 0.0128314\n",
            "20 termos: 0.0128338\n",
            "21 termos: 0.0128333\n",
            "22 termos: 0.0128334\n",
            "23 termos: 0.0128334\n",
            "24 termos: 0.0128334\n",
            "25 termos: 0.0128334\n",
            "26 termos: 0.0128334\n",
            "27 termos: 0.0128334\n",
            "28 termos: 0.0128334\n",
            "29 termos: 0.0128334\n"
          ]
        }
      ]
    }
  ]
}